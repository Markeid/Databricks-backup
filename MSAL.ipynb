{
 "cells": [
  {
   "cell_type": "code",
   "execution_count": null,
   "metadata": {},
   "outputs": [],
   "source": [
    "pip install msal"
   ]
  },
  {
   "cell_type": "code",
   "execution_count": null,
   "metadata": {},
   "outputs": [],
   "source": [
    "import msal"
   ]
  },
  {
   "cell_type": "code",
   "execution_count": null,
   "metadata": {},
   "outputs": [],
   "source": [
    "# Função de escrita no Azure SQL\n",
    "\n",
    "def write_AzureSQLdb():\n",
    "    \n",
    "    # ID do locatário localizado nos Registros de Aplicativos do Azure Active Directory -> app-user-databricks\n",
    "    tenant_id = 'b4920c82-7581-491a-9dab-cd2ade2f3ebd'\n",
    "    \n",
    "    #Autoridade\n",
    "    msal_authority = 'https://login.windows.net/' + tenant_id\n",
    "    \n",
    "    # URL do recurso DB\n",
    "    resource_url = 'https://database.windows.net/.default'\n",
    "    \n",
    "    #Service Principal Client ID -> Criado em secrets no Key Vault\n",
    "    service_principal_id = dbutils.secrets.get(scope = 'scope-adb-estudos', key = 'app-reg-adb')\n",
    "    \n",
    "    #Service Principal Secret -> Criado em secrets no Key Vault\n",
    "    service_principal_secret = dbuilts.secrets.get(scope = 'scope-adb-estudos', key = 'app-user-databricks')\n",
    "    \n",
    "    #Variáveis e string de conexão ao Servidor do Azure SQL\n",
    "    \n",
    "    jdbcHostname = 'sql-estudo.database.windows.net'\n",
    "    jdbcDatabase = 'db-estudos'\n",
    "    jdbcPort = 1433\n",
    "    jdbcUrl = f'jdbc:sqlserver://{jdbcHostname}:{jdbcPort};database = {jdbcDatabase}'\n",
    "    \n",
    "    # Criando a instância que irá ser utilizada durante o ciclo de vida do aplicativo\n",
    "    \n",
    "    instance = msal.ConfidentialClientApplication(service_principal_id, service_principal_secret, msal_authority)\n",
    "    \n",
    "    # Envio de solicitação ao AAD para obter um token\n",
    "    \n",
    "    token = instance.acquire_token_for_client(resource_url)\n",
    "    \n",
    "    # Acessando o token\n",
    "    \n",
    "    access_token = token['access_token']\n",
    "    \n",
    "    # Selecionando colunas, o formato da conexão, url da conexão,  schema.tabela e acesso do token\n",
    "    \n",
    "    df.select('CotacaoCompra',\n",
    "             'DataHoraCotacao',\n",
    "             ).write.format('jdbc')\\\n",
    "                        .mode('append')\\\n",
    "                        .option('url', jdbcUrl)\\\n",
    "                        .option('dbtable',\n",
    "                                'dolar_marcus_araujo.dolar_procedure_marcus_araujo02')\\\n",
    "                        .option('accesstoken', access_token)\\\n",
    "                        .save()"
   ]
  }
 ],
 "metadata": {
  "language_info": {
   "name": "python"
  },
  "orig_nbformat": 4
 },
 "nbformat": 4,
 "nbformat_minor": 2
}
