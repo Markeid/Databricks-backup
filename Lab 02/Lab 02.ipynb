{
 "cells": [
  {
   "cell_type": "code",
   "execution_count": null,
   "metadata": {},
   "outputs": [],
   "source": [
    "# Instalando o upgrade do pip\n",
    "# Instalando a biblioteca pymssql\n",
    "\n",
    "!pip install --upgrade pip\n",
    "!pip install pymssql\n",
    "!pip install adal"
   ]
  },
  {
   "cell_type": "code",
   "execution_count": null,
   "metadata": {},
   "outputs": [],
   "source": [
    "# Importando Pandas, pymssql e adal\n",
    "\n",
    "import pandas as pd\n",
    "import pymssql\n",
    "import adal\n",
    "\n",
    "resource_app_id_url = \"https://database.windows.net/\""
   ]
  },
  {
   "cell_type": "code",
   "execution_count": null,
   "metadata": {},
   "outputs": [],
   "source": [
    "# Buscando os dados da API e salvando em CSV\n",
    "\n",
    "url = \"https://olinda.bcb.gov.br/olinda/servico/PTAX/versao/v1/odata/CotacaoDolarPeriodo(dataInicial=@dataInicial,dataFinalCotacao=@dataFinalCotacao)?@dataInicial=%2701-01-2019%27&@dataFinalCotacao=%2712-31-2025%27&$top=9000&$format=text/csv&$select=cotacaoCompra,cotacaoVenda,dataHoraCotacao\"\n",
    "csv = pd.read_csv(url)\n",
    "csv.head()"
   ]
  },
  {
   "cell_type": "code",
   "execution_count": null,
   "metadata": {},
   "outputs": [],
   "source": [
    "#Criando a conexão\n",
    "\n",
    "service_principal_id = dbutils.secrets.get(scope = \"scope-adb-estudos\", key = \"app-reg-adb\")\n",
    "service_principal_secret = dbutils.secrets.get(scope = \"scope-adb-estudos\", key = \"app-user-databricks\")\n",
    "tenant_id = \"b4920c82-7581-491a-9dab-cd2ade2f3ebd\"\n",
    "authority = \"https://login.windows.net/\" + tenant_id"
   ]
  },
  {
   "cell_type": "code",
   "execution_count": null,
   "metadata": {},
   "outputs": [],
   "source": [
    "azure_sql_url = \"jdbc:sqlserver://sql-estudo.database.windows.net\"\n",
    "database_name = \"db-estudos\"\n",
    "db_table = \"[dolar_marcus_araujo].[dolar_stage_marcus_araujo02]\"\n",
    "encrypt = \"true\"\n",
    "host_name_in_certificate = \"*.database.windows.net\""
   ]
  },
  {
   "cell_type": "code",
   "execution_count": null,
   "metadata": {},
   "outputs": [],
   "source": [
    "context = adal.AuthenticationContext(authority)\n",
    "token = context.acquire_token_with_client_credentials(resource_app_id_url, service_principal_id, service_principal_secret)\n",
    "access_token = token[\"accessToken\"]"
   ]
  },
  {
   "cell_type": "code",
   "execution_count": null,
   "metadata": {},
   "outputs": [],
   "source": [
    "# Gerando DataFrame\n",
    "\n",
    "emperorDf = spark.read \\\n",
    "             .format(\"jdbc\") \\\n",
    "             .option(\"url\", azure_sql_url) \\\n",
    "             .option(\"dbtable\", db_table) \\\n",
    "             .option(\"databaseName\", database_name) \\\n",
    "             .option(\"accessToken\", access_token) \\\n",
    "             .option(\"encrypt\", \"true\") \\\n",
    "             .option(\"hostNameInCertificate\", \"*.database.windows.net\") \\\n",
    "             .load()           \n",
    "\n",
    "display(emperorDf)  "
   ]
  },
  {
   "cell_type": "code",
   "execution_count": null,
   "metadata": {},
   "outputs": [],
   "source": [
    "df = pd.DataFrame(csv)\n",
    "display(df)"
   ]
  },
  {
   "cell_type": "code",
   "execution_count": null,
   "metadata": {},
   "outputs": [],
   "source": [
    "#Tipo de dados em cada coluna\n",
    "\n",
    "df.dtypes"
   ]
  },
  {
   "cell_type": "code",
   "execution_count": null,
   "metadata": {},
   "outputs": [],
   "source": [
    "# Valores dos dados\n",
    "\n",
    "df.values"
   ]
  },
  {
   "cell_type": "code",
   "execution_count": null,
   "metadata": {},
   "outputs": [],
   "source": [
    "# Limpeza da tabela antes da inserção de dados\n",
    "\n",
    "com02 = \"\"\"truncate table [dolar_marcus_araujo].[dolar_stage_marcus_araujo02]\"\"\""
   ]
  },
  {
   "cell_type": "code",
   "execution_count": null,
   "metadata": {},
   "outputs": [],
   "source": [
    "# Query para a inserção de dados da API para a tabela stage\n",
    "\n",
    "com = \"\"\"INSERT INTO [dolar_marcus_araujo].[dolar_stage_marcus_araujo02] VALUES(%s, %s, %s);\"\"\"\n",
    "sql_data = tuple(map(tuple, df.values)) # Convertendo arrays em tuplas\n",
    "print('Dados inseridos corretamente na tabela stage')"
   ]
  }
 ],
 "metadata": {
  "language_info": {
   "name": "python"
  },
  "orig_nbformat": 4
 },
 "nbformat": 4,
 "nbformat_minor": 2
}
